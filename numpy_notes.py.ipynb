{
 "cells": [
  {
   "cell_type": "code",
   "execution_count": 4,
   "metadata": {},
   "outputs": [
    {
     "name": "stdout",
     "output_type": "stream",
     "text": [
      "arr =  [1 2 3 4 5]\n",
      ".shape:  (5,)\n",
      "type(arr) <class 'numpy.ndarray'>\n",
      "arr.dtype:  int64\n",
      "arr.dtype:  <U21\n"
     ]
    }
   ],
   "source": [
    "import numpy as np\n",
    "\n",
    "# Can create arrays with np.array\n",
    "arr = np.array([1,2,3,4,5])\n",
    "mixed_arr = np.array([1,2,3,4,'word'])\n",
    "\n",
    "print('arr = ', arr)\n",
    "print('.shape: ', arr.shape)\n",
    "print('type(arr)', type(arr))\n",
    "print('arr.dtype: ', arr.dtype)\n",
    "print('arr.dtype: ', mixed_arr.dtype)"
   ]
  },
  {
   "cell_type": "code",
   "execution_count": 7,
   "metadata": {},
   "outputs": [
    {
     "name": "stdout",
     "output_type": "stream",
     "text": [
      "[[[0. 0.]\n",
      "  [0. 0.]\n",
      "  [0. 0.]]\n",
      "\n",
      " [[0. 0.]\n",
      "  [0. 0.]\n",
      "  [0. 0.]]\n",
      "\n",
      " [[0. 0.]\n",
      "  [0. 0.]\n",
      "  [0. 0.]]]\n"
     ]
    }
   ],
   "source": [
    "# np.zeros fills an array with 0's\n",
    "# np.ones does the same thing with 1's\n",
    "# np.full(shape, value_to_fill_array_with)\n",
    "zeros = np.zeros((3,3,2)) # Takes a tuple with the shape\n",
    "\n",
    "print(zeros)"
   ]
  },
  {
   "cell_type": "code",
   "execution_count": 8,
   "metadata": {},
   "outputs": [
    {
     "name": "stdout",
     "output_type": "stream",
     "text": [
      "[[1. 0. 0. 0. 0.]\n",
      " [0. 1. 0. 0. 0.]\n",
      " [0. 0. 1. 0. 0.]\n",
      " [0. 0. 0. 1. 0.]\n",
      " [0. 0. 0. 0. 1.]]\n"
     ]
    }
   ],
   "source": [
    "# np.eye creates an Identity Matrix\n",
    "eye = np.eye(5)\n",
    "print(eye)"
   ]
  },
  {
   "cell_type": "code",
   "execution_count": 9,
   "metadata": {},
   "outputs": [
    {
     "name": "stdout",
     "output_type": "stream",
     "text": [
      "[[1 0 0 0 0]\n",
      " [0 2 0 0 0]\n",
      " [0 0 3 0 0]\n",
      " [0 0 0 4 0]\n",
      " [0 0 0 0 5]]\n"
     ]
    }
   ],
   "source": [
    "# np.diag creates a Diagonal Matrix\n",
    "diag = np.diag([1,2,3,4,5])\n",
    "print(diag)"
   ]
  },
  {
   "cell_type": "code",
   "execution_count": 10,
   "metadata": {},
   "outputs": [
    {
     "name": "stdout",
     "output_type": "stream",
     "text": [
      "[0 1 2 3 4]\n"
     ]
    }
   ],
   "source": [
    "# np.arange is another way to create arrays\n",
    "# One argument will create an array with consecutive integers between 0 and n-1\n",
    "a_arr = np.arange(5)\n",
    "print(a_arr)"
   ]
  },
  {
   "cell_type": "code",
   "execution_count": 12,
   "metadata": {},
   "outputs": [
    {
     "name": "stdout",
     "output_type": "stream",
     "text": [
      "[5 6 7 8 9]\n"
     ]
    }
   ],
   "source": [
    "# Two arguments will create an array with consecutive integers between (start, stop)\n",
    "a_arr2 = np.arange(5,10)\n",
    "print(a_arr2)"
   ]
  },
  {
   "cell_type": "code",
   "execution_count": 13,
   "metadata": {},
   "outputs": [
    {
     "name": "stdout",
     "output_type": "stream",
     "text": [
      "[10 15 20 25 30 35 40 45]\n"
     ]
    }
   ],
   "source": [
    "# Three arguments - (start, stop, step)\n",
    "step_arr = np.arange(10,50,5)\n",
    "print(step_arr)"
   ]
  },
  {
   "cell_type": "code",
   "execution_count": 16,
   "metadata": {},
   "outputs": [
    {
     "name": "stdout",
     "output_type": "stream",
     "text": [
      "[2.  2.4 2.8 3.2 3.6 4. ]\n"
     ]
    }
   ],
   "source": [
    "# You can use floats with arange, but it's best not to because of inconsistencies\n",
    "# linspace handles floats better\n",
    "# np.linspace(start, stop, N) where N is number of elements\n",
    "# Notice both start and stop are INCLUDED unless endpoin=False is provided\n",
    "lin = np.linspace(2, 4, 6)\n",
    "print(lin)"
   ]
  },
  {
   "cell_type": "code",
   "execution_count": 19,
   "metadata": {},
   "outputs": [
    {
     "name": "stdout",
     "output_type": "stream",
     "text": [
      "[ 0 10 20 30 40 50 60 70 80 90]\n",
      "[[ 0 10]\n",
      " [20 30]\n",
      " [40 50]\n",
      " [60 70]\n",
      " [80 90]]\n"
     ]
    }
   ],
   "source": [
    "# np.reshape(ndarray, new_shape) takes an ndarray and reshapes it\n",
    "old = np.arange(0,100,10)\n",
    "print(old)\n",
    "new_ndarr = np.reshape(old, (5,2))\n",
    "print(new_ndarr)"
   ]
  },
  {
   "cell_type": "code",
   "execution_count": 24,
   "metadata": {},
   "outputs": [
    {
     "name": "stdout",
     "output_type": "stream",
     "text": [
      "[[ 0 10 20 30 40]\n",
      " [50 60 70 80 90]]\n"
     ]
    }
   ],
   "source": [
    "# reshape is also available as a method\n",
    "# reshape returns a new array, does not mutate in place\n",
    "old = old.reshape(2,5)\n",
    "print(old)"
   ]
  },
  {
   "cell_type": "code",
   "execution_count": 25,
   "metadata": {},
   "outputs": [
    {
     "name": "stdout",
     "output_type": "stream",
     "text": [
      "[[0.86460195 0.15905212 0.84527626]\n",
      " [0.59248021 0.98863172 0.90197604]\n",
      " [0.92827418 0.90010186 0.00373059]]\n"
     ]
    }
   ],
   "source": [
    "# np.random.random(shape) creates and array with random floats\n",
    "rando = np.random.random((3,3))\n",
    "print(rando)"
   ]
  },
  {
   "cell_type": "code",
   "execution_count": 27,
   "metadata": {},
   "outputs": [
    {
     "name": "stdout",
     "output_type": "stream",
     "text": [
      "[[5 7 9 8]\n",
      " [6 8 6 9]]\n"
     ]
    }
   ],
   "source": [
    "# np.random.randint(start, stop, size=shape) creates an array of random integers within start-stop\n",
    "rand_int = np.random.randint(5, 10, size=(2,4))\n",
    "print(rand_int)"
   ]
  },
  {
   "cell_type": "code",
   "execution_count": 32,
   "metadata": {},
   "outputs": [
    {
     "name": "stdout",
     "output_type": "stream",
     "text": [
      "mean:  0.00013536482184152093\n",
      "max:  0.48140874069264233\n",
      "min:  -0.5150386689310283\n",
      "norm_arr has 499637 negative numbers\n",
      "norm_arr has 500363 positive numbers\n",
      "Item in first row, second column:  0.05543820637794336\n"
     ]
    }
   ],
   "source": [
    "# np.random.normal(mean, std, size=shape) creates a normalized array\n",
    "norm_arr = np.random.normal(0, 0.1, size=(1000,1000))\n",
    "\n",
    "print('mean: ', norm_arr.mean())\n",
    "print('max: ', norm_arr.max())\n",
    "print('min: ', norm_arr.min())\n",
    "\n",
    "# ndarrays have some very interesting behavior\n",
    "print('norm_arr has', (norm_arr < 0).sum(), 'negative numbers')\n",
    "print('norm_arr has', (norm_arr > 0).sum(), 'positive numbers')\n",
    "print('Item in first row, second column: ', norm_arr[0,2])"
   ]
  },
  {
   "cell_type": "code",
   "execution_count": 33,
   "metadata": {},
   "outputs": [
    {
     "name": "stdout",
     "output_type": "stream",
     "text": [
      "[[ 0.15282166 -0.14771218 -0.02333298]\n",
      " [ 0.00659051 -0.12186279  0.00201664]\n",
      " [ 0.06835678  0.11073126  0.06773756]\n",
      " [-0.19476285  0.07941041 -0.19091989]\n",
      " [ 0.07064285 -0.02857085 -0.10440298]\n",
      " [ 0.10982631 -0.19318936 -0.0848595 ]\n",
      " [ 0.25505343  0.06985588  0.03688258]\n",
      " [-0.07333128  0.0895035   0.20959903]\n",
      " [ 0.04441284 -0.01928323  0.10060501]]\n"
     ]
    }
   ],
   "source": [
    "spliced = norm_arr[1:10,2:5]\n",
    "print(spliced)"
   ]
  },
  {
   "cell_type": "code",
   "execution_count": 35,
   "metadata": {},
   "outputs": [
    {
     "name": "stdout",
     "output_type": "stream",
     "text": [
      "[1 2 3]\n"
     ]
    }
   ],
   "source": [
    "arr = np.array([[1,2,3],[1,1,1],[2,2,2]])\n",
    "unique_arr = np.unique(arr)\n",
    "print(unique_arr)"
   ]
  },
  {
   "cell_type": "code",
   "execution_count": 36,
   "metadata": {},
   "outputs": [
    {
     "name": "stdout",
     "output_type": "stream",
     "text": [
      "Greater than 10:  [11 12 13 14 15 16 17 18 19 20 21 22 23 24]\n",
      "Less than or equal to 8:  [0 1 2 3 4 5 6 7 8]\n",
      "Between 10 and 17: [11 12 13 14 15 16]\n"
     ]
    }
   ],
   "source": [
    "#  Boolean indexing\n",
    "arr = np.arange(25).reshape(5, 5)\n",
    "print('Greater than 10: ', arr[arr > 10])\n",
    "print('Less than or equal to 8: ', arr[arr <= 8])\n",
    "print('Between 10 and 17:', arr[(arr > 10) & (arr < 17)])"
   ]
  },
  {
   "cell_type": "code",
   "execution_count": 42,
   "metadata": {},
   "outputs": [
    {
     "name": "stdout",
     "output_type": "stream",
     "text": [
      "Sorted\n",
      " [[ 2  2  7  7 10]\n",
      " [ 2  4  5  7 10]\n",
      " [ 1  2  4  5  9]\n",
      " [ 3  5  5  6  9]\n",
      " [ 3  3  3  7  8]]\n",
      "\n",
      "Original\n",
      " [[ 7  7  2 10  2]\n",
      " [ 2  5  4 10  7]\n",
      " [ 2  4  1  5  9]\n",
      " [ 3  5  6  9  5]\n",
      " [ 8  3  7  3  3]]\n",
      "\n",
      "Sorted on columns\n",
      " [[ 2  3  1  3  2]\n",
      " [ 2  4  2  5  3]\n",
      " [ 3  5  4  9  5]\n",
      " [ 7  5  6 10  7]\n",
      " [ 8  7  7 10  9]]\n"
     ]
    }
   ],
   "source": [
    "# np.sort(ndarray, axis=) sorts out of place\n",
    "# ndarray.sort(axis=, kind=(takes a sorting algo), order=(str or list of str)) sorts in place\n",
    "rando = np.random.randint(1,11,size=(5,5))\n",
    "print('Sorted\\n', np.sort(rando))\n",
    "\n",
    "print('\\nOriginal\\n', rando)\n",
    "\n",
    "rando.sort(axis=0)\n",
    "print('\\nSorted on columns\\n', rando)"
   ]
  },
  {
   "cell_type": "code",
   "execution_count": null,
   "metadata": {},
   "outputs": [],
   "source": []
  }
 ],
 "metadata": {
  "kernelspec": {
   "display_name": "Python 3",
   "language": "python",
   "name": "python3"
  },
  "language_info": {
   "codemirror_mode": {
    "name": "ipython",
    "version": 3
   },
   "file_extension": ".py",
   "mimetype": "text/x-python",
   "name": "python",
   "nbconvert_exporter": "python",
   "pygments_lexer": "ipython3",
   "version": "3.7.7"
  }
 },
 "nbformat": 4,
 "nbformat_minor": 4
}
