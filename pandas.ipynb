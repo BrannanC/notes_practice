{
 "cells": [
  {
   "cell_type": "markdown",
   "metadata": {},
   "source": [
    "# Pandas\n"
   ]
  },
  {
   "cell_type": "code",
   "execution_count": 1,
   "metadata": {},
   "outputs": [],
   "source": [
    "import pandas as pd"
   ]
  },
  {
   "cell_type": "markdown",
   "metadata": {},
   "source": [
    "## Series\n",
    "- pd.Series is a 2d structure with named rows"
   ]
  },
  {
   "cell_type": "code",
   "execution_count": 4,
   "metadata": {},
   "outputs": [
    {
     "name": "stdout",
     "output_type": "stream",
     "text": [
      "eggs               6\n",
      "potatoes           2\n",
      "mango          Whole\n",
      "beef        optional\n",
      "dtype: object\n",
      "\n",
      "\n",
      "Shape: (4,)\n",
      "Dimension: 1\n",
      "Size: 4\n",
      "Values: [6 2 'Whole' 'optional']\n",
      "Index: Index(['eggs', 'potatoes', 'mango', 'beef'], dtype='object')\n",
      "Bananas in recipe: False\n",
      "\n",
      "Eggs and potatoes:\n",
      " eggs        6\n",
      "potatoes    2\n",
      "dtype: object\n",
      "Eggs and Mango:\n",
      " eggs        6\n",
      "potatoes    2\n",
      "dtype: object\n",
      "Mango and Beef:\n",
      " mango       Whole\n",
      "beef     optional\n",
      "dtype: object\n",
      "\n",
      "New list without beef:\n",
      " eggs            6\n",
      "potatoes        2\n",
      "mango       Whole\n",
      "dtype: object\n"
     ]
    }
   ],
   "source": [
    "# pd.Series creates a 2d array with named rows\n",
    "recipe = pd.Series(data = [6, 2, 'Whole', 'optional'], index = ['eggs', 'potatoes', 'mango', 'beef'])\n",
    "print(recipe)\n",
    "print()\n",
    "print(\"\\nShape:\", recipe.shape)\n",
    "print(\"Dimension:\", recipe.ndim)\n",
    "print(\"Size:\", recipe.size)\n",
    "print(\"Values:\", recipe.values)\n",
    "print(\"Index:\", recipe.index)\n",
    "print(\"Bananas in recipe:\", 'bananas' in recipe)\n",
    "\n",
    "print(\"\\nEggs and potatoes:\\n\", recipe[['eggs', 'potatoes']]) # Array of strings to access multiple\n",
    "print('Eggs and Mango:\\n', recipe.loc['eggs':'potatoes']) # Or loc\n",
    "print('Mango and Beef:\\n', recipe.iloc[[2,3]]) # iloc references by index number\n",
    "\n",
    "print(\"\\nNew list without beef:\\n\", recipe.drop('beef')) # does not modify without inplace=True\n"
   ]
  },
  {
   "cell_type": "code",
   "execution_count": 5,
   "metadata": {},
   "outputs": [
    {
     "name": "stdout",
     "output_type": "stream",
     "text": [
      "X2 eggs                      12\n",
      "potatoes                   4\n",
      "mango             WholeWhole\n",
      "beef        optionaloptional\n",
      "dtype: object\n",
      "eggs        12\n",
      "potatoes     4\n",
      "dtype: object\n"
     ]
    }
   ],
   "source": [
    "# Math should be done with only numerical values\n",
    "print(\"X2\", recipe * 2)\n",
    "print(recipe[['eggs', 'potatoes']] * 2)"
   ]
  },
  {
   "cell_type": "markdown",
   "metadata": {},
   "source": [
    "## DataFrames\n",
    "- DataFrames are 2d structures with labeled rows _and_ columns. It's a spreadsheet.\n",
    "- DataFrames are commonly created with a csv\n",
    "- `pd.read_csv('filename.csv')`\n",
    "- `df.head()` is the beginning, df.tail() is the end\n",
    "- `df.groupby([col_a])[colum].sum()` groups by  "
   ]
  },
  {
   "cell_type": "code",
   "execution_count": 6,
   "metadata": {},
   "outputs": [
    {
     "name": "stdout",
     "output_type": "stream",
     "text": [
      "           Bob  Alice\n",
      "bike     245.0  500.0\n",
      "book       NaN   40.0\n",
      "glasses    NaN  110.0\n",
      "pants     25.0   45.0\n",
      "watch     55.0    NaN\n"
     ]
    }
   ],
   "source": [
    "items = {'Bob' : pd.Series(data = [245, 25, 55], index = ['bike', 'pants', 'watch']),\n",
    "         'Alice' : pd.Series(data = [40, 110, 500, 45], index = ['book', 'glasses', 'bike', 'pants'])}\n",
    "shopping_carts = pd.DataFrame(items)\n",
    "print(shopping_carts)"
   ]
  },
  {
   "cell_type": "code",
   "execution_count": 7,
   "metadata": {},
   "outputs": [
    {
     "name": "stdout",
     "output_type": "stream",
     "text": [
      "[[245. 500.]\n",
      " [ nan  40.]\n",
      " [ nan 110.]\n",
      " [ 25.  45.]\n",
      " [ 55.  nan]]\n",
      "Index(['bike', 'book', 'glasses', 'pants', 'watch'], dtype='object')\n",
      "Index(['Bob', 'Alice'], dtype='object')\n"
     ]
    }
   ],
   "source": [
    "print(shopping_carts.values)\n",
    "print(shopping_carts.index)\n",
    "print(shopping_carts.columns)"
   ]
  },
  {
   "cell_type": "code",
   "execution_count": 8,
   "metadata": {},
   "outputs": [
    {
     "name": "stdout",
     "output_type": "stream",
     "text": [
      "        Bob  Alice\n",
      "pants  25.0     45\n",
      "book    NaN     40\n"
     ]
    }
   ],
   "source": [
    "# We Create a DataFrame that only has selected items for both Alice and Bob\n",
    "sel_shopping_cart = pd.DataFrame(items, index = ['pants', 'book'])\n",
    "print(sel_shopping_cart)\n",
    "\n",
    "# .pop(), .drop(), .loc, .iloc, .append() and arithmetic all work for DataFrames as well"
   ]
  },
  {
   "cell_type": "code",
   "execution_count": 9,
   "metadata": {},
   "outputs": [
    {
     "name": "stdout",
     "output_type": "stream",
     "text": [
      "         bikes  pants  watches  shirts  shoes  suits  glasses\n",
      "store 1     20     30       35    15.0      8   45.0      NaN\n",
      "store 2     15      5       10     2.0      5    7.0     50.0\n",
      "store 3     20     30       35     NaN     10    NaN      4.0\n",
      "\n",
      "Number of NaN: 3\n",
      "         bikes  pants  watches  shirts  shoes  suits  glasses\n",
      "store 1  False  False    False   False  False  False     True\n",
      "store 2  False  False    False   False  False  False    False\n",
      "store 3  False  False    False    True  False   True    False\n",
      "\n",
      "bikes      0\n",
      "pants      0\n",
      "watches    0\n",
      "shirts     1\n",
      "shoes      0\n",
      "suits      1\n",
      "glasses    1\n",
      "dtype: int64\n",
      "\n",
      "bikes      3\n",
      "pants      3\n",
      "watches    3\n",
      "shirts     2\n",
      "shoes      3\n",
      "suits      2\n",
      "glasses    2\n",
      "dtype: int64\n"
     ]
    }
   ],
   "source": [
    "# We create a list of Python dictionaries\n",
    "items2 = [{'bikes': 20, 'pants': 30, 'watches': 35, 'shirts': 15, 'shoes':8, 'suits':45},\n",
    "{'watches': 10, 'glasses': 50, 'bikes': 15, 'pants':5, 'shirts': 2, 'shoes':5, 'suits':7},\n",
    "{'bikes': 20, 'pants': 30, 'watches': 35, 'glasses': 4, 'shoes':10}]\n",
    "\n",
    "# We create a DataFrame  and provide the row index\n",
    "store_items = pd.DataFrame(items2, index = ['store 1', 'store 2', 'store 3'])\n",
    "\n",
    "# We display the DataFrame\n",
    "print(store_items)\n",
    "\n",
    "# We count the number of NaN values in store_items\n",
    "x = store_items.isnull().sum().sum()\n",
    "print(\"\\nNumber of NaN:\", x)\n",
    "print\n",
    "print(store_items.isnull())\n",
    "print()\n",
    "print(store_items.isnull().sum())\n",
    "print()\n",
    "print(store_items.count()) # Counts non null/NaN values"
   ]
  },
  {
   "cell_type": "code",
   "execution_count": 19,
   "metadata": {},
   "outputs": [
    {
     "name": "stdout",
     "output_type": "stream",
     "text": [
      "         bikes  pants  watches  shirts  shoes  suits  glasses\n",
      "store 2     15      5       10     2.0      5    7.0     50.0\n",
      "\n",
      "         bikes  pants  watches  shoes\n",
      "store 1     20     30       35      8\n",
      "store 2     15      5       10      5\n",
      "store 3     20     30       35     10\n",
      "\n",
      "         bikes  pants  watches  shirts  shoes  suits  glasses\n",
      "store 1     20     30       35    15.0      8   45.0      0.0\n",
      "store 2     15      5       10     2.0      5    7.0     50.0\n",
      "store 3     20     30       35     0.0     10    0.0      4.0\n",
      "\n",
      "         bikes  pants  watches  shirts  shoes  suits  glasses\n",
      "store 1     20     30       35    15.0      8   45.0      NaN\n",
      "store 2     15      5       10     2.0      5    7.0     50.0\n",
      "store 3     20     30       35     2.0     10    7.0      4.0\n",
      "\n",
      "         bikes  pants  watches  shirts  shoes  suits  glasses\n",
      "store 1     20     30       35    15.0      8   45.0      NaN\n",
      "store 2     15      5       10     2.0      5    7.0     50.0\n",
      "store 3     20     30       35     2.0     10    7.0      4.0\n",
      "\n",
      "         bikes  pants  watches  shirts  shoes  suits  glasses\n",
      "store 1   20.0   30.0     35.0    15.0    8.0   45.0     45.0\n",
      "store 2   15.0    5.0     10.0     2.0    5.0    7.0     50.0\n",
      "store 3   20.0   30.0     35.0    22.5   10.0    7.0      4.0\n"
     ]
    },
    {
     "data": {
      "text/plain": [
       "bikes      False\n",
       "pants      False\n",
       "watches    False\n",
       "shirts      True\n",
       "shoes      False\n",
       "suits       True\n",
       "glasses     True\n",
       "dtype: bool"
      ]
     },
     "execution_count": 19,
     "metadata": {},
     "output_type": "execute_result"
    }
   ],
   "source": [
    "# We drop any rows with NaN values\n",
    "# store_items.dropna(axis = 0, inplace=True)\n",
    "print(store_items.dropna(axis = 0)) # Returns without modifying unless inplace=True\n",
    "print()\n",
    "\n",
    "# We drop any columns with NaN values\n",
    "print(store_items.dropna(axis = 1))\n",
    "print()\n",
    "# We replace all NaN values with 0\n",
    "print(store_items.fillna(0))\n",
    "print()\n",
    "\n",
    "# We replace NaN values with the previous value in the column\n",
    "print(store_items.fillna(method = 'ffill', axis = 0)) # Foreward fills any NaN values, note store 1 contains NaN\n",
    "print()\n",
    "\n",
    "# We replace NaN values by using linear interpolation using column values\n",
    "print(store_items.interpolate(method = 'linear', axis = 0))\n",
    "print()\n",
    "\n",
    "# We replace NaN values by using linear interpolation using row values\n",
    "print(store_items.interpolate(method = 'linear', axis = 1))\n",
    "\n",
    "store_items.isnull().any()"
   ]
  },
  {
   "cell_type": "code",
   "execution_count": 20,
   "metadata": {},
   "outputs": [
    {
     "data": {
      "text/html": [
       "<div>\n",
       "<style scoped>\n",
       "    .dataframe tbody tr th:only-of-type {\n",
       "        vertical-align: middle;\n",
       "    }\n",
       "\n",
       "    .dataframe tbody tr th {\n",
       "        vertical-align: top;\n",
       "    }\n",
       "\n",
       "    .dataframe thead th {\n",
       "        text-align: right;\n",
       "    }\n",
       "</style>\n",
       "<table border=\"1\" class=\"dataframe\">\n",
       "  <thead>\n",
       "    <tr style=\"text-align: right;\">\n",
       "      <th></th>\n",
       "      <th>bikes</th>\n",
       "      <th>pants</th>\n",
       "      <th>watches</th>\n",
       "      <th>shirts</th>\n",
       "      <th>shoes</th>\n",
       "      <th>suits</th>\n",
       "      <th>glasses</th>\n",
       "    </tr>\n",
       "  </thead>\n",
       "  <tbody>\n",
       "    <tr>\n",
       "      <th>count</th>\n",
       "      <td>3.000000</td>\n",
       "      <td>3.000000</td>\n",
       "      <td>3.000000</td>\n",
       "      <td>2.000000</td>\n",
       "      <td>3.000000</td>\n",
       "      <td>2.000000</td>\n",
       "      <td>2.000000</td>\n",
       "    </tr>\n",
       "    <tr>\n",
       "      <th>mean</th>\n",
       "      <td>18.333333</td>\n",
       "      <td>21.666667</td>\n",
       "      <td>26.666667</td>\n",
       "      <td>8.500000</td>\n",
       "      <td>7.666667</td>\n",
       "      <td>26.000000</td>\n",
       "      <td>27.000000</td>\n",
       "    </tr>\n",
       "    <tr>\n",
       "      <th>std</th>\n",
       "      <td>2.886751</td>\n",
       "      <td>14.433757</td>\n",
       "      <td>14.433757</td>\n",
       "      <td>9.192388</td>\n",
       "      <td>2.516611</td>\n",
       "      <td>26.870058</td>\n",
       "      <td>32.526912</td>\n",
       "    </tr>\n",
       "    <tr>\n",
       "      <th>min</th>\n",
       "      <td>15.000000</td>\n",
       "      <td>5.000000</td>\n",
       "      <td>10.000000</td>\n",
       "      <td>2.000000</td>\n",
       "      <td>5.000000</td>\n",
       "      <td>7.000000</td>\n",
       "      <td>4.000000</td>\n",
       "    </tr>\n",
       "    <tr>\n",
       "      <th>25%</th>\n",
       "      <td>17.500000</td>\n",
       "      <td>17.500000</td>\n",
       "      <td>22.500000</td>\n",
       "      <td>5.250000</td>\n",
       "      <td>6.500000</td>\n",
       "      <td>16.500000</td>\n",
       "      <td>15.500000</td>\n",
       "    </tr>\n",
       "    <tr>\n",
       "      <th>50%</th>\n",
       "      <td>20.000000</td>\n",
       "      <td>30.000000</td>\n",
       "      <td>35.000000</td>\n",
       "      <td>8.500000</td>\n",
       "      <td>8.000000</td>\n",
       "      <td>26.000000</td>\n",
       "      <td>27.000000</td>\n",
       "    </tr>\n",
       "    <tr>\n",
       "      <th>75%</th>\n",
       "      <td>20.000000</td>\n",
       "      <td>30.000000</td>\n",
       "      <td>35.000000</td>\n",
       "      <td>11.750000</td>\n",
       "      <td>9.000000</td>\n",
       "      <td>35.500000</td>\n",
       "      <td>38.500000</td>\n",
       "    </tr>\n",
       "    <tr>\n",
       "      <th>max</th>\n",
       "      <td>20.000000</td>\n",
       "      <td>30.000000</td>\n",
       "      <td>35.000000</td>\n",
       "      <td>15.000000</td>\n",
       "      <td>10.000000</td>\n",
       "      <td>45.000000</td>\n",
       "      <td>50.000000</td>\n",
       "    </tr>\n",
       "  </tbody>\n",
       "</table>\n",
       "</div>"
      ],
      "text/plain": [
       "           bikes      pants    watches     shirts      shoes      suits  \\\n",
       "count   3.000000   3.000000   3.000000   2.000000   3.000000   2.000000   \n",
       "mean   18.333333  21.666667  26.666667   8.500000   7.666667  26.000000   \n",
       "std     2.886751  14.433757  14.433757   9.192388   2.516611  26.870058   \n",
       "min    15.000000   5.000000  10.000000   2.000000   5.000000   7.000000   \n",
       "25%    17.500000  17.500000  22.500000   5.250000   6.500000  16.500000   \n",
       "50%    20.000000  30.000000  35.000000   8.500000   8.000000  26.000000   \n",
       "75%    20.000000  30.000000  35.000000  11.750000   9.000000  35.500000   \n",
       "max    20.000000  30.000000  35.000000  15.000000  10.000000  45.000000   \n",
       "\n",
       "         glasses  \n",
       "count   2.000000  \n",
       "mean   27.000000  \n",
       "std    32.526912  \n",
       "min     4.000000  \n",
       "25%    15.500000  \n",
       "50%    27.000000  \n",
       "75%    38.500000  \n",
       "max    50.000000  "
      ]
     },
     "execution_count": 20,
     "metadata": {},
     "output_type": "execute_result"
    }
   ],
   "source": [
    "store_items.describe()"
   ]
  },
  {
   "cell_type": "code",
   "execution_count": 21,
   "metadata": {},
   "outputs": [
    {
     "data": {
      "text/plain": [
       "count     2.000000\n",
       "mean      8.500000\n",
       "std       9.192388\n",
       "min       2.000000\n",
       "25%       5.250000\n",
       "50%       8.500000\n",
       "75%      11.750000\n",
       "max      15.000000\n",
       "Name: shirts, dtype: float64"
      ]
     },
     "execution_count": 21,
     "metadata": {},
     "output_type": "execute_result"
    }
   ],
   "source": [
    "store_items['shirts'].describe()"
   ]
  },
  {
   "cell_type": "code",
   "execution_count": 22,
   "metadata": {},
   "outputs": [
    {
     "name": "stdout",
     "output_type": "stream",
     "text": [
      "bikes      20.0\n",
      "pants      30.0\n",
      "watches    35.0\n",
      "shirts     15.0\n",
      "shoes      10.0\n",
      "suits      45.0\n",
      "glasses    50.0\n",
      "dtype: float64\n",
      "\n",
      "7.0\n",
      "\n",
      "bikes      18.333333\n",
      "pants      21.666667\n",
      "watches    26.666667\n",
      "shirts      8.500000\n",
      "shoes       7.666667\n",
      "suits      26.000000\n",
      "glasses    27.000000\n",
      "dtype: float64\n"
     ]
    }
   ],
   "source": [
    "print(store_items.max())\n",
    "print()\n",
    "print(store_items['suits'].min())\n",
    "print()\n",
    "print(store_items.mean())"
   ]
  },
  {
   "cell_type": "code",
   "execution_count": 23,
   "metadata": {},
   "outputs": [
    {
     "data": {
      "text/html": [
       "<div>\n",
       "<style scoped>\n",
       "    .dataframe tbody tr th:only-of-type {\n",
       "        vertical-align: middle;\n",
       "    }\n",
       "\n",
       "    .dataframe tbody tr th {\n",
       "        vertical-align: top;\n",
       "    }\n",
       "\n",
       "    .dataframe thead th {\n",
       "        text-align: right;\n",
       "    }\n",
       "</style>\n",
       "<table border=\"1\" class=\"dataframe\">\n",
       "  <thead>\n",
       "    <tr style=\"text-align: right;\">\n",
       "      <th></th>\n",
       "      <th>bikes</th>\n",
       "      <th>pants</th>\n",
       "      <th>watches</th>\n",
       "      <th>shirts</th>\n",
       "      <th>shoes</th>\n",
       "      <th>suits</th>\n",
       "      <th>glasses</th>\n",
       "    </tr>\n",
       "  </thead>\n",
       "  <tbody>\n",
       "    <tr>\n",
       "      <th>bikes</th>\n",
       "      <td>1.000000</td>\n",
       "      <td>1.000000</td>\n",
       "      <td>1.000000</td>\n",
       "      <td>1.0</td>\n",
       "      <td>0.917663</td>\n",
       "      <td>1.0</td>\n",
       "      <td>-1.0</td>\n",
       "    </tr>\n",
       "    <tr>\n",
       "      <th>pants</th>\n",
       "      <td>1.000000</td>\n",
       "      <td>1.000000</td>\n",
       "      <td>1.000000</td>\n",
       "      <td>1.0</td>\n",
       "      <td>0.917663</td>\n",
       "      <td>1.0</td>\n",
       "      <td>-1.0</td>\n",
       "    </tr>\n",
       "    <tr>\n",
       "      <th>watches</th>\n",
       "      <td>1.000000</td>\n",
       "      <td>1.000000</td>\n",
       "      <td>1.000000</td>\n",
       "      <td>1.0</td>\n",
       "      <td>0.917663</td>\n",
       "      <td>1.0</td>\n",
       "      <td>-1.0</td>\n",
       "    </tr>\n",
       "    <tr>\n",
       "      <th>shirts</th>\n",
       "      <td>1.000000</td>\n",
       "      <td>1.000000</td>\n",
       "      <td>1.000000</td>\n",
       "      <td>1.0</td>\n",
       "      <td>1.000000</td>\n",
       "      <td>1.0</td>\n",
       "      <td>NaN</td>\n",
       "    </tr>\n",
       "    <tr>\n",
       "      <th>shoes</th>\n",
       "      <td>0.917663</td>\n",
       "      <td>0.917663</td>\n",
       "      <td>0.917663</td>\n",
       "      <td>1.0</td>\n",
       "      <td>1.000000</td>\n",
       "      <td>1.0</td>\n",
       "      <td>-1.0</td>\n",
       "    </tr>\n",
       "    <tr>\n",
       "      <th>suits</th>\n",
       "      <td>1.000000</td>\n",
       "      <td>1.000000</td>\n",
       "      <td>1.000000</td>\n",
       "      <td>1.0</td>\n",
       "      <td>1.000000</td>\n",
       "      <td>1.0</td>\n",
       "      <td>NaN</td>\n",
       "    </tr>\n",
       "    <tr>\n",
       "      <th>glasses</th>\n",
       "      <td>-1.000000</td>\n",
       "      <td>-1.000000</td>\n",
       "      <td>-1.000000</td>\n",
       "      <td>NaN</td>\n",
       "      <td>-1.000000</td>\n",
       "      <td>NaN</td>\n",
       "      <td>1.0</td>\n",
       "    </tr>\n",
       "  </tbody>\n",
       "</table>\n",
       "</div>"
      ],
      "text/plain": [
       "            bikes     pants   watches  shirts     shoes  suits  glasses\n",
       "bikes    1.000000  1.000000  1.000000     1.0  0.917663    1.0     -1.0\n",
       "pants    1.000000  1.000000  1.000000     1.0  0.917663    1.0     -1.0\n",
       "watches  1.000000  1.000000  1.000000     1.0  0.917663    1.0     -1.0\n",
       "shirts   1.000000  1.000000  1.000000     1.0  1.000000    1.0      NaN\n",
       "shoes    0.917663  0.917663  0.917663     1.0  1.000000    1.0     -1.0\n",
       "suits    1.000000  1.000000  1.000000     1.0  1.000000    1.0      NaN\n",
       "glasses -1.000000 -1.000000 -1.000000     NaN -1.000000    NaN      1.0"
      ]
     },
     "execution_count": 23,
     "metadata": {},
     "output_type": "execute_result"
    }
   ],
   "source": [
    "# .corr() will get pearson correlation\n",
    "store_items.corr()"
   ]
  },
  {
   "cell_type": "code",
   "execution_count": null,
   "metadata": {},
   "outputs": [],
   "source": []
  }
 ],
 "metadata": {
  "kernelspec": {
   "display_name": "Python 3",
   "language": "python",
   "name": "python3"
  },
  "language_info": {
   "codemirror_mode": {
    "name": "ipython",
    "version": 3
   },
   "file_extension": ".py",
   "mimetype": "text/x-python",
   "name": "python",
   "nbconvert_exporter": "python",
   "pygments_lexer": "ipython3",
   "version": "3.7.7"
  }
 },
 "nbformat": 4,
 "nbformat_minor": 4
}
