{
 "cells": [
  {
   "cell_type": "code",
   "execution_count": null,
   "metadata": {},
   "outputs": [],
   "source": [
    "def perceptronStep(X, y, W, b, learn_rate = 0.01):\n",
    "    for i in range(len(X)):\n",
    "        yh = prediction(X[i], W, b)\n",
    "        \n",
    "        if yh != y[i]:\n",
    "            if yh == 0:\n",
    "                W[0] = W[0] + X[i][0]*learn_rate\n",
    "                W[1] = W[1] + X[i][1]*learn_rate\n",
    "                b += learn_rate\n",
    "                \n",
    "            else:\n",
    "                W[0] = W[0] - X[i][0]*learn_rate\n",
    "                W[1] = W[1] - X[i][1]*learn_rate\n",
    "                b -= learn_rate\n",
    "    return W, b"
   ]
  }
 ],
 "metadata": {
  "kernelspec": {
   "display_name": "Python 3",
   "language": "python",
   "name": "python3"
  },
  "language_info": {
   "codemirror_mode": {
    "name": "ipython",
    "version": 3
   },
   "file_extension": ".py",
   "mimetype": "text/x-python",
   "name": "python",
   "nbconvert_exporter": "python",
   "pygments_lexer": "ipython3",
   "version": "3.7.4"
  }
 },
 "nbformat": 4,
 "nbformat_minor": 2
}
