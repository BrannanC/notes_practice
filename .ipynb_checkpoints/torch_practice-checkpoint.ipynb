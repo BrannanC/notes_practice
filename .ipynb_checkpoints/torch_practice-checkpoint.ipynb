{
 "cells": [
  {
   "cell_type": "code",
   "execution_count": 11,
   "metadata": {},
   "outputs": [],
   "source": [
    "import torch\n",
    "import numpy as np"
   ]
  },
  {
   "cell_type": "code",
   "execution_count": 2,
   "metadata": {},
   "outputs": [],
   "source": [
    "def activation(x):\n",
    "    \"\"\" Sigmoid activation function \n",
    "    \n",
    "        Arguments\n",
    "        ---------\n",
    "        x: torch.Tensor\n",
    "    \"\"\"\n",
    "    return 1/(1+torch.exp(-x))"
   ]
  },
  {
   "cell_type": "code",
   "execution_count": 5,
   "metadata": {},
   "outputs": [],
   "source": [
    "# Random Data\n",
    "### Generate some data\n",
    "torch.manual_seed(7) # Set the random seed so things are predictable\n",
    "\n",
    "# Features are 3 random normal variables\n",
    "# values randomly distributed according to the normal distribution with a mean of zero and standard deviation of one.\n",
    "features = torch.randn((1, 5)) # Creates tensor with 1 row and 5 columns \n",
    "\n",
    "# True weights for our data, random normal variables again\n",
    "weights = torch.randn_like(features)# creates another tensor, has shape of features\n",
    "\n",
    "# and a true bias term\n",
    "bias = torch.randn((1, 1))# single value from normal distribution"
   ]
  },
  {
   "cell_type": "code",
   "execution_count": 7,
   "metadata": {},
   "outputs": [],
   "source": [
    "# y = activation(torch.sum(features * weights) + bias)\n",
    "# y = activation((features * weights).sum() + bias)\n",
    "y = activation(torch.sum(features * weights) + bias)"
   ]
  },
  {
   "cell_type": "code",
   "execution_count": 8,
   "metadata": {},
   "outputs": [],
   "source": [
    "### Generate some data\n",
    "torch.manual_seed(7) # Set the random seed so things are predictable\n",
    "\n",
    "# Features are 3 random normal variables\n",
    "features = torch.randn((1, 3))\n",
    "\n",
    "# Define the size of each layer in our network\n",
    "n_input = features.shape[1]     # Number of input units, must match number of input features\n",
    "n_hidden = 2                    # Number of hidden units \n",
    "n_output = 1                    # Number of output units\n",
    "\n",
    "# Weights for inputs to hidden layer\n",
    "W1 = torch.randn(n_input, n_hidden)\n",
    "# Weights for hidden layer to output layer\n",
    "W2 = torch.randn(n_hidden, n_output)\n",
    "\n",
    "# and bias terms for hidden and output layers\n",
    "B1 = torch.randn((1, n_hidden))\n",
    "B2 = torch.randn((1, n_output))"
   ]
  },
  {
   "cell_type": "code",
   "execution_count": 9,
   "metadata": {},
   "outputs": [
    {
     "name": "stdout",
     "output_type": "stream",
     "text": [
      "tensor([[0.3171]])\n"
     ]
    }
   ],
   "source": [
    "hidden = activation(torch.mm(features, W1) + B1)\n",
    "output = activation(torch.mm(hidden, W2) + B2)\n",
    "print(output)"
   ]
  },
  {
   "cell_type": "code",
   "execution_count": 12,
   "metadata": {},
   "outputs": [
    {
     "name": "stdout",
     "output_type": "stream",
     "text": [
      "[[0.03259496 0.79487133 0.39869661]\n",
      " [0.62377476 0.30284558 0.12729573]\n",
      " [0.75736391 0.40269257 0.09571878]\n",
      " [0.91684488 0.98041689 0.41038085]]\n",
      "tensor([[0.0326, 0.7949, 0.3987],\n",
      "        [0.6238, 0.3028, 0.1273],\n",
      "        [0.7574, 0.4027, 0.0957],\n",
      "        [0.9168, 0.9804, 0.4104]], dtype=torch.float64)\n",
      "[[0.03259496 0.79487133 0.39869661]\n",
      " [0.62377476 0.30284558 0.12729573]\n",
      " [0.75736391 0.40269257 0.09571878]\n",
      " [0.91684488 0.98041689 0.41038085]]\n"
     ]
    }
   ],
   "source": [
    "# create tensor from numpy array\n",
    "a = np.random.rand(4,3)\n",
    "print(a)\n",
    "\n",
    "b = torch.from_numpy(a)\n",
    "print(b)\n",
    "\n",
    "print(b.numpy())"
   ]
  },
  {
   "cell_type": "code",
   "execution_count": 13,
   "metadata": {},
   "outputs": [
    {
     "name": "stdout",
     "output_type": "stream",
     "text": [
      "[[0.06518993 1.58974267 0.79739322]\n",
      " [1.24754952 0.60569117 0.25459146]\n",
      " [1.51472782 0.80538515 0.19143756]\n",
      " [1.83368976 1.96083379 0.8207617 ]]\n"
     ]
    }
   ],
   "source": [
    "b.mul_(2)\n",
    "print(a) # b is still a reference to a"
   ]
  },
  {
   "cell_type": "code",
   "execution_count": null,
   "metadata": {},
   "outputs": [],
   "source": []
  }
 ],
 "metadata": {
  "kernelspec": {
   "display_name": "Python 3",
   "language": "python",
   "name": "python3"
  },
  "language_info": {
   "codemirror_mode": {
    "name": "ipython",
    "version": 3
   },
   "file_extension": ".py",
   "mimetype": "text/x-python",
   "name": "python",
   "nbconvert_exporter": "python",
   "pygments_lexer": "ipython3",
   "version": "3.7.4"
  }
 },
 "nbformat": 4,
 "nbformat_minor": 2
}
