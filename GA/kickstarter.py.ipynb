{
 "cells": [
  {
   "cell_type": "code",
   "execution_count": 30,
   "metadata": {},
   "outputs": [
    {
     "name": "stdout",
     "output_type": "stream",
     "text": [
      "project id\n",
      "name\n",
      "url\n",
      "category\n",
      "subcategory\n",
      "location\n",
      "status\n",
      "goal\n",
      "pledged\n",
      "funded percentage\n",
      "backers\n",
      "funded date\n",
      "levels\n",
      "reward levels\n",
      "updates\n",
      "comments\n",
      "duration\n",
      "   project id                                               name  \\\n",
      "0       39409                              WHILE THE TREES SLEEP   \n",
      "1      126581               Educational Online Trading Card Game   \n",
      "2      138119                                              STRUM   \n",
      "3      237090  GETTING OVER - One son's search to finally kno...   \n",
      "4      246101  The Launch of FlyeGrlRoyalty &quot;The New Nam...   \n",
      "\n",
      "                                                 url      category  \\\n",
      "0  http://www.kickstarter.com/projects/emiliesaba...  Film & Video   \n",
      "1  http://www.kickstarter.com/projects/972789543/...         Games   \n",
      "2  http://www.kickstarter.com/projects/185476022/...  Film & Video   \n",
      "3  http://www.kickstarter.com/projects/charnick/g...  Film & Video   \n",
      "4  http://www.kickstarter.com/projects/flyegrlroy...       Fashion   \n",
      "\n",
      "          subcategory         location      status     goal  pledged  \\\n",
      "0          Short Film     Columbia, MO  successful  10500.0  11545.0   \n",
      "1  Board & Card Games    Maplewood, NJ      failed   4000.0     20.0   \n",
      "2           Animation  Los Angeles, CA        live  20000.0     56.0   \n",
      "3         Documentary  Los Angeles, CA  successful   6000.0   6535.0   \n",
      "4             Fashion         Novi, MI      failed   3500.0      0.0   \n",
      "\n",
      "   funded percentage  backers                      funded date  levels  \\\n",
      "0           1.099524       66  Fri, 19 Aug 2011 19:28:17 -0000       7   \n",
      "1           0.005000        2  Mon, 02 Aug 2010 03:59:00 -0000       5   \n",
      "2           0.002800        3  Fri, 08 Jun 2012 00:00:31 -0000      10   \n",
      "3           1.089167      100  Sun, 08 Apr 2012 02:14:00 -0000      13   \n",
      "4           0.000000        0  Wed, 01 Jun 2011 15:25:39 -0000       6   \n",
      "\n",
      "                                       reward levels  updates  comments  \\\n",
      "0               $25,$50,$100,$250,$500,$1,000,$2,500       10         2   \n",
      "1                                  $1,$5,$10,$25,$50        6         0   \n",
      "2  $1,$10,$25,$40,$50,$100,$250,$1,000,$1,337,$9,001        1         0   \n",
      "3  $1,$10,$25,$30,$50,$75,$85,$100,$110,$250,$500...        4         0   \n",
      "4                         $10,$25,$50,$100,$150,$250        2         0   \n",
      "\n",
      "   duration  \n",
      "0     30.00  \n",
      "1     47.18  \n",
      "2     28.00  \n",
      "3     32.22  \n",
      "4     30.00  \n"
     ]
    }
   ],
   "source": [
    "import pandas as pd\n",
    "import numpy as np\n",
    "import matplotlib.pyplot as plt\n",
    "\n",
    "kickstarter = pd.read_csv('./DSI_kickstarterscrape_dataset.csv', encoding = \"ISO-8859-1\")\n",
    "# print(kickstarter['pledged'].mean())\n",
    "for col in kickstarter.columns:\n",
    "    print(col)\n",
    "# print(kickstarter['backers'].max())\n",
    "print(kickstarter.head())"
   ]
  },
  {
   "cell_type": "code",
   "execution_count": 20,
   "metadata": {},
   "outputs": [
    {
     "data": {
      "text/plain": [
       "(0, 5000)"
      ]
     },
     "execution_count": 20,
     "metadata": {},
     "output_type": "execute_result"
    },
    {
     "data": {
      "image/png": "[encoded data removed]",
      "text/plain": [
       "<Figure size 432x288 with 1 Axes>"
      ]
     },
     "metadata": {
      "needs_background": "light"
     },
     "output_type": "display_data"
    }
   ],
   "source": [
    "bin_edges = np.arange(0, kickstarter['backers'].max()+100, 2)\n",
    "# ticks = np.arange(0,1500, 100)\n",
    "# labels = ['{}'.format(val) for val in ticks]\n",
    "plt.hist(kickstarter['backers'], bins=bin_edges);\n",
    "plt.xlim((0,200))\n",
    "plt.ylim((0,5000))\n",
    "# plt.xticks(ticks, labels)"
   ]
  },
  {
   "cell_type": "code",
   "execution_count": 28,
   "metadata": {},
   "outputs": [
    {
     "data": {
      "image/png": "[encoded data removed]",
      "text/plain": [
       "<Figure size 432x288 with 1 Axes>"
      ]
     },
     "metadata": {
      "needs_background": "light"
     },
     "output_type": "display_data"
    }
   ],
   "source": [
    "bin_edges = np.arange(0, kickstarter['duration'].max()+5, 1)\n",
    "# ticks = np.arange(0,1500, 100)\n",
    "# labels = ['{}'.format(val) for val in ticks]\n",
    "plt.hist(kickstarter['duration'], bins=bin_edges);\n",
    "# plt.xlim((0,200))\n",
    "# plt.ylim((0,5000))\n"
   ]
  },
  {
   "cell_type": "code",
   "execution_count": 56,
   "metadata": {},
   "outputs": [
    {
     "name": "stdout",
     "output_type": "stream",
     "text": [
      "37.960474988027336\n",
      "42.977828490208466\n"
     ]
    },
    {
     "data": {
      "image/png": "[encoded data removed]",
      "text/plain": [
       "<Figure size 720x360 with 2 Axes>"
      ]
     },
     "metadata": {
      "needs_background": "light"
     },
     "output_type": "display_data"
    }
   ],
   "source": [
    "bin_edges = np.arange(0, kickstarter['duration'].max()+5, 5)\n",
    "successful = kickstarter[kickstarter['status'] == 'successful']\n",
    "failed = kickstarter[kickstarter['status'] == 'failed']\n",
    "print(successful['duration'].mean())\n",
    "print(failed['duration'].mean())\n",
    "ticks = np.arange(0,100, 10)\n",
    "yticks = np.arange(0,8100, 1000)\n",
    "ylabels = ['{}'.format(val) for val in yticks]\n",
    "labels = ['{}'.format(val) for val in ticks]\n",
    "plt.figure(figsize = [10, 5])\n",
    "\n",
    "plt.subplot(1,2,1)\n",
    "plt.hist(failed['duration'], bins=bin_edges);\n",
    "plt.xticks(ticks, labels);\n",
    "plt.yticks(yticks, ylabels);\n",
    "plt.xlabel('Duration in Days (failed)');\n",
    "plt.ylabel('# of Campaigns');\n",
    "\n",
    "\n",
    "plt.subplot(1, 2, 2)\n",
    "plt.hist(successful['duration'], bins=bin_edges);\n",
    "plt.xticks(ticks, labels);\n",
    "plt.xlabel('Duration in Days (successful)');\n",
    "plt.ylabel('# of Campaigns');\n",
    "plt.yticks(yticks, ylabels);"
   ]
  },
  {
   "cell_type": "code",
   "execution_count": 68,
   "metadata": {},
   "outputs": [
    {
     "name": "stdout",
     "output_type": "stream",
     "text": [
      "16350.594937355234\n",
      "5483.827983368888\n"
     ]
    },
    {
     "data": {
      "image/png": "[encoded data removed]",
      "text/plain": [
       "<Figure size 720x360 with 2 Axes>"
      ]
     },
     "metadata": {
      "needs_background": "light"
     },
     "output_type": "display_data"
    }
   ],
   "source": [
    "plt.figure(figsize = [10, 5])\n",
    "bin_edges = np.arange(0, kickstarter['goal'].max()+5, 2000)\n",
    "successful = kickstarter[kickstarter['status'] == 'successful']\n",
    "failed = kickstarter[kickstarter['status'] == 'failed']\n",
    "\n",
    "plt.subplot(1,2,1)\n",
    "plt.hist(failed['goal'], bins=bin_edges);\n",
    "plt.xlim((0,100000))\n",
    "# plt.xticks(ticks, labels);\n",
    "# plt.yticks(yticks, ylabels);\n",
    "# plt.xlabel('Duration in Days (failed)');\n",
    "# plt.ylabel('# of Campaigns');\n",
    "print(failed['goal'].mean())\n",
    "\n",
    "plt.subplot(1, 2, 2)\n",
    "plt.hist(successful['goal'], bins=bin_edges);\n",
    "plt.xlim((0,75000))\n",
    "print(successful['goal'].mean())\n",
    "# plt.xticks(ticks, labels);\n",
    "# plt.xlabel('Duration in Days (successful)');\n",
    "# plt.ylabel('# of Campaigns');\n",
    "# plt.yticks(yticks, ylabels);"
   ]
  },
  {
   "cell_type": "code",
   "execution_count": 83,
   "metadata": {},
   "outputs": [
    {
     "name": "stdout",
     "output_type": "stream",
     "text": [
      "0.8333333333333334\n",
      "0.16666666666666666\n"
     ]
    }
   ],
   "source": [
    "over_twenty = kickstarter[kickstarter['goal'] <= 10]\n",
    "over_twenty = over_twenty[over_twenty['status'] != 'live']\n",
    "total = over_twenty['goal'].count()\n",
    "succ = over_twenty[over_twenty['status'] == 'successful']\n",
    "fail = over_twenty[over_twenty['status'] == 'failed']\n",
    "\n",
    "per_succ = succ['goal'].count() / total\n",
    "per_fail = fail['goal'].count() / total\n",
    "print(per_succ)\n",
    "print(per_fail)"
   ]
  },
  {
   "cell_type": "code",
   "execution_count": 99,
   "metadata": {},
   "outputs": [
    {
     "name": "stdout",
     "output_type": "stream",
     "text": [
      "['Film & Video' 'Games' 'Fashion' 'Music' 'Art' 'Technology' 'Dance'\n",
      " 'Publishing' 'Theater' 'Comics' 'Design' 'Photography' 'Food'\n",
      " 'Film &amp; Video']\n",
      "Dance  -  74.54031117397454\n",
      "Theater  -  70.71490094745909\n",
      "Music  -  67.50149075730472\n",
      "Art  -  57.05770793822812\n",
      "Film & Video  -  53.82932166301969\n",
      "Comics  -  53.71900826446281\n",
      "Film &amp; Video  -  50.7893438579181\n",
      "Food  -  50.34588777863183\n",
      "Photography  -  46.50324441240086\n",
      "Design  -  46.433121019108285\n",
      "Games  -  42.99255247122546\n",
      "Publishing  -  40.12004801920768\n",
      "Technology  -  39.054054054054056\n",
      "Fashion  -  32.87536800785084\n"
     ]
    }
   ],
   "source": [
    "succ = kickstarter[kickstarter['status'] == 'successful']\n",
    "fail = kickstarter[kickstarter['status'] == 'failed']\n",
    "finished = kickstarter[kickstarter['status'] != 'live']\n",
    "# succ['category'].describe()\n",
    "# fail['category'].describe()\n",
    "# counts = succ['category'].value_counts()\n",
    "# print(counts)\n",
    "# counts = fail['category'].value_counts()\n",
    "# print(counts)\n",
    "# plt.pie(counts[:4]);\n",
    "arr = []\n",
    "print(kickstarter['category'].unique())\n",
    "for cat in kickstarter['category'].unique():\n",
    "    tot_cat = finished[finished['category'] == cat]\n",
    "    suc = tot_cat[tot_cat['status'] == 'successful']\n",
    "    arr.append((cat, \" - \", (suc['category'].count() / tot_cat['category'].count()) * 100 ))\n",
    "    \n",
    "arr.sort(reverse=True, key=lambda x: x[2])\n",
    "for cat in arr:\n",
    "    print(cat[0], cat[1], cat[2])"
   ]
  },
  {
   "cell_type": "code",
   "execution_count": 111,
   "metadata": {},
   "outputs": [
    {
     "name": "stdout",
     "output_type": "stream",
     "text": [
      "Nov 57.46212121212121\n",
      "Apr 57.14007023019898\n",
      "Mar 56.85457337135337\n",
      "Aug 54.73061760840998\n",
      "Oct 54.623348803998574\n",
      "Feb 54.56232601299102\n",
      "Sep 54.30127041742286\n",
      "Jan 53.429951690821255\n",
      "May 53.207481209578745\n",
      "Jun 53.093674386450054\n",
      "Jul 52.98036465638148\n",
      "Dec 52.28857229463474\n"
     ]
    }
   ],
   "source": [
    "arr = []\n",
    "months = ['Jan', 'Feb', 'Mar', 'Apr', 'May', 'Jun', 'Jul', 'Aug', 'Sep', 'Oct', 'Nov', 'Dec']\n",
    "# jun = finished[finished['funded date'].str.contains('Jun')]\n",
    "for mon in months:\n",
    "    data = finished[finished['funded date'].str.contains(mon)]\n",
    "    succ = data[data['status'] == 'successful']\n",
    "    perc = succ['goal'].count() / data['goal'].count() * 100\n",
    "    arr.append((mon, perc))\n",
    "arr.sort(reverse=True, key=lambda x:x[1])\n",
    "for x in arr:\n",
    "    print(x[0], x[1])\n",
    "\n"
   ]
  },
  {
   "cell_type": "code",
   "execution_count": null,
   "metadata": {},
   "outputs": [],
   "source": []
  }
 ],
 "metadata": {
  "kernelspec": {
   "display_name": "Python 3",
   "language": "python",
   "name": "python3"
  },
  "language_info": {
   "codemirror_mode": {
    "name": "ipython",
    "version": 3
   },
   "file_extension": ".py",
   "mimetype": "text/x-python",
   "name": "python",
   "nbconvert_exporter": "python",
   "pygments_lexer": "ipython3",
   "version": "3.7.7"
  }
 },
 "nbformat": 4,
 "nbformat_minor": 4
}
