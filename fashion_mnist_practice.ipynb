{
 "cells": [
  {
   "cell_type": "code",
   "execution_count": 3,
   "metadata": {},
   "outputs": [],
   "source": [
    "import torch\n",
    "from torchvision import datasets, transforms\n",
    "\n",
    "# Define a transform to normalize the data\n",
    "transform = transforms.Compose([transforms.ToTensor(),\n",
    "                                transforms.Normalize([0.5], [0.5])])\n",
    "# Download and load the training data\n",
    "trainset = datasets.FashionMNIST('~/.pytorch/F_MNIST_data/', download=True, train=True, transform=transform)\n",
    "trainloader = torch.utils.data.DataLoader(trainset, batch_size=64, shuffle=True)\n",
    "\n",
    "# Download and load the test data\n",
    "testset = datasets.FashionMNIST('~/.pytorch/F_MNIST_data/', download=True, train=False, transform=transform)\n",
    "testloader = torch.utils.data.DataLoader(testset, batch_size=64, shuffle=True)"
   ]
  },
  {
   "cell_type": "code",
   "execution_count": 4,
   "metadata": {},
   "outputs": [],
   "source": [
    "# ************************ MODEL ************************\n",
    "image, label = next(iter(trainloader))\n",
    "from torch import nn\n",
    "model = nn.Sequential(nn.Linear(784,128),\n",
    "                      nn.ReLU(),\n",
    "                      nn.Linear(128,64),\n",
    "                      nn.ReLU(),\n",
    "                      nn.Linear(64,10),\n",
    "                      nn.LogSoftmax(dim=1))"
   ]
  },
  {
   "cell_type": "code",
   "execution_count": 5,
   "metadata": {},
   "outputs": [],
   "source": [
    "from torch import optim\n",
    "optimizer = optim.SGD(model.parameters(), lr=0.01)\n",
    "\n",
    "# Could use CrossEntropyLoss(), remove LogSoftmax\n",
    "criterion = nn.NLLLoss()"
   ]
  },
  {
   "cell_type": "code",
   "execution_count": 6,
   "metadata": {},
   "outputs": [
    {
     "name": "stdout",
     "output_type": "stream",
     "text": [
      "Training loss: 1.0088656764548978\n",
      "Training loss: 0.5491583533823363\n",
      "Training loss: 0.48432848724856303\n",
      "Training loss: 0.4518624833429546\n",
      "Training loss: 0.4295826280580909\n"
     ]
    }
   ],
   "source": [
    "### Epochs\n",
    "epoch = 5\n",
    "for e in range(epoch):\n",
    "    running_loss = 0\n",
    "    for images, labels in trainloader:\n",
    "        images = images.view(images.shape[0], -1)\n",
    "        \n",
    "        optimizer.zero_grad()\n",
    "        \n",
    "        output = model.forward(images)\n",
    "        loss = criterion(output, labels)\n",
    "        loss.backward()\n",
    "        optimizer.step()\n",
    "        \n",
    "        running_loss += loss.item()\n",
    "    else:\n",
    "        print(f\"Training loss: {running_loss/len(trainloader)}\")"
   ]
  },
  {
   "cell_type": "code",
   "execution_count": 11,
   "metadata": {},
   "outputs": [],
   "source": [
    "### DROPOUT ###\n",
    "import torch.nn.functional as F\n",
    "\n",
    "class Classifier(nn.Module):\n",
    "    def __init__(self):\n",
    "        super().__init__()\n",
    "        self.fc1 = nn.Linear(784, 256)\n",
    "        self.fc2 = nn.Linear(256, 128)\n",
    "        self.fc3 = nn.Linear(128, 64)\n",
    "        self.fc4 = nn.Linear(64, 10)\n",
    "\n",
    "        # Dropout module with 0.2 drop probability\n",
    "        self.dropout = nn.Dropout(p=0.2)\n",
    "\n",
    "    def forward(self, x):\n",
    "        # make sure input tensor is flattened\n",
    "        x = x.view(x.shape[0], -1)\n",
    "\n",
    "        # Now with dropout\n",
    "        x = self.dropout(F.relu(self.fc1(x)))\n",
    "        x = self.dropout(F.relu(self.fc2(x)))\n",
    "        x = self.dropout(F.relu(self.fc3(x)))\n",
    "\n",
    "        # output so no dropout here\n",
    "        x = F.log_softmax(self.fc4(x), dim=1)\n",
    "\n",
    "        return x"
   ]
  },
  {
   "cell_type": "code",
   "execution_count": 21,
   "metadata": {},
   "outputs": [
    {
     "name": "stdout",
     "output_type": "stream",
     "text": [
      "Epoch: 1/15..  Training Loss: 0.602..  Test Loss: 0.558..  Test Accuracy: 80.314%\n",
      "Epoch: 2/15..  Training Loss: 0.489..  Test Loss: 0.507..  Test Accuracy: 82.414%\n",
      "Epoch: 3/15..  Training Loss: 0.453..  Test Loss: 0.516..  Test Accuracy: 82.146%\n",
      "Epoch: 4/15..  Training Loss: 0.434..  Test Loss: 0.475..  Test Accuracy: 84.295%\n",
      "Epoch: 5/15..  Training Loss: 0.428..  Test Loss: 0.464..  Test Accuracy: 84.425%\n",
      "Epoch: 6/15..  Training Loss: 0.413..  Test Loss: 0.470..  Test Accuracy: 84.226%\n",
      "Epoch: 7/15..  Training Loss: 0.408..  Test Loss: 0.473..  Test Accuracy: 83.688%\n",
      "Epoch: 8/15..  Training Loss: 0.399..  Test Loss: 0.492..  Test Accuracy: 83.171%\n",
      "Epoch: 9/15..  Training Loss: 0.388..  Test Loss: 0.463..  Test Accuracy: 84.703%\n",
      "Epoch: 10/15..  Training Loss: 0.401..  Test Loss: 0.466..  Test Accuracy: 84.256%\n",
      "Epoch: 11/15..  Training Loss: 0.390..  Test Loss: 0.453..  Test Accuracy: 84.893%\n",
      "Epoch: 12/15..  Training Loss: 0.381..  Test Loss: 0.472..  Test Accuracy: 85.390%\n",
      "Epoch: 13/15..  Training Loss: 0.381..  Test Loss: 0.454..  Test Accuracy: 85.062%\n",
      "Epoch: 14/15..  Training Loss: 0.379..  Test Loss: 0.442..  Test Accuracy: 85.311%\n",
      "Epoch: 15/15..  Training Loss: 0.369..  Test Loss: 0.448..  Test Accuracy: 85.360%\n"
     ]
    }
   ],
   "source": [
    "model = Classifier()\n",
    "criterion = nn.NLLLoss()\n",
    "optimizer = optim.Adam(model.parameters(), lr=0.003)\n",
    "\n",
    "ps = torch.exp(model(images))\n",
    "top_p, top_class = ps.topk(1, dim=1)\n",
    "equals = top_class == labels.view(*top_class.shape)\n",
    "accuracy = torch.mean(equals.type(torch.FloatTensor))\n",
    "\n",
    "epochs = 15\n",
    "steps = 0\n",
    "\n",
    "train_losses, test_losses = [], []\n",
    "for e in range(epochs):\n",
    "    running_loss = 0\n",
    "    for images, labels in trainloader:\n",
    "        \n",
    "        optimizer.zero_grad()\n",
    "        \n",
    "        log_ps = model(images)\n",
    "        loss = criterion(log_ps, labels)\n",
    "        loss.backward()\n",
    "        optimizer.step()\n",
    "        \n",
    "        running_loss += loss.item()\n",
    "        \n",
    "    else:\n",
    "        test_loss = 0\n",
    "        accuracy = 0\n",
    "        \n",
    "        # Turn off gradients for validation, saves memory and computations\n",
    "        with torch.no_grad():\n",
    "            for images, labels in testloader:\n",
    "                log_ps = model(images)\n",
    "                test_loss += criterion(log_ps, labels)\n",
    "                \n",
    "                ps = torch.exp(log_ps)\n",
    "                top_p, top_class = ps.topk(1, dim=1)\n",
    "                equals = top_class == labels.view(*top_class.shape)\n",
    "                accuracy += torch.mean(equals.type(torch.FloatTensor))\n",
    "        model.train()\n",
    "                \n",
    "        train_losses.append(running_loss/len(trainloader))\n",
    "        test_losses.append(test_loss/len(testloader))\n",
    "\n",
    "        print(\"Epoch: {}/{}.. \".format(e+1, epochs),\n",
    "              \"Training Loss: {:.3f}.. \".format(running_loss/len(trainloader)),\n",
    "              \"Test Loss: {:.3f}.. \".format(test_loss/len(testloader)),\n",
    "              \"Test Accuracy: {:.3f}%\".format(accuracy/len(testloader)*100))"
   ]
  },
  {
   "cell_type": "code",
   "execution_count": 22,
   "metadata": {},
   "outputs": [
    {
     "data": {
      "image/png": "[encoded data removed]",
      "text/plain": [
       "<Figure size 432x288 with 1 Axes>"
      ]
     },
     "metadata": {
      "image/png": {
       "height": 248,
       "width": 378
      },
      "needs_background": "light"
     },
     "output_type": "display_data"
    }
   ],
   "source": [
    "%matplotlib inline\n",
    "%config InlineBackend.figure_format = 'retina'\n",
    "\n",
    "import matplotlib.pyplot as plt\n",
    "\n",
    "plt.plot(train_losses, label='Training loss');\n",
    "plt.plot(test_losses, label='Validation loss');\n",
    "plt.legend(frameon=False);"
   ]
  },
  {
   "cell_type": "code",
   "execution_count": 23,
   "metadata": {},
   "outputs": [],
   "source": [
    "### LOADING DATA\n",
    "\n",
    "# data_dir = 'Cat_Dog_data/train'\n",
    "\n",
    "# transform = transforms.Compose([transforms.Resize(255),\n",
    "#                                  transforms.CenterCrop(224),\n",
    "#                                  transforms.ToTensor()])\n",
    "# dataset = datasets.ImageFolder(data_dir, transform=transform)\n",
    "# dataloader = torch.utils.data.DataLoader(dataset, batch_size=32, shuffle=True)\n",
    "\n",
    "## RANDOMIZE\n",
    "# train_transforms = transforms.Compose([transforms.RandomRotation(30),\n",
    "#                                        transforms.RandomResizedCrop(224),\n",
    "#                                        transforms.RandomHorizontalFlip(),\n",
    "#                                        transforms.ToTensor(),\n",
    "#                                        transforms.Normalize([0.5, 0.5, 0.5], \n",
    "#                                                             [0.5, 0.5, 0.5])])"
   ]
  },
  {
   "cell_type": "code",
   "execution_count": null,
   "metadata": {},
   "outputs": [],
   "source": [
    "# data_dir = 'Cat_Dog_data'\n",
    "\n",
    "# train_transforms = transforms.Compose([transforms.Resize(255),\n",
    "#                                        transforms.CenterCrop(224),\n",
    "#                                        transforms.RandomRotation(15),\n",
    "#                                        transforms.RandomHorizontalFlip(),\n",
    "#                                        transforms.ToTensor()])\n",
    "\n",
    "# test_transforms = transforms.Compose([transforms.Resize(255),\n",
    "#                                  transforms.CenterCrop(224),\n",
    "#                                  transforms.ToTensor()])\n",
    "\n",
    "\n",
    "# # Pass transforms in here, then run the next cell to see how the transforms look\n",
    "# train_data = datasets.ImageFolder(data_dir + '/train', transform=train_transforms)\n",
    "# test_data = datasets.ImageFolder(data_dir + '/test', transform=test_transforms)\n",
    "\n",
    "# trainloader = torch.utils.data.DataLoader(train_data, batch_size=32)\n",
    "# testloader = torch.utils.data.DataLoader(test_data, batch_size=32)"
   ]
  }
 ],
 "metadata": {
  "kernelspec": {
   "display_name": "Python 3",
   "language": "python",
   "name": "python3"
  },
  "language_info": {
   "codemirror_mode": {
    "name": "ipython",
    "version": 3
   },
   "file_extension": ".py",
   "mimetype": "text/x-python",
   "name": "python",
   "nbconvert_exporter": "python",
   "pygments_lexer": "ipython3",
   "version": "3.7.4"
  }
 },
 "nbformat": 4,
 "nbformat_minor": 2
}
